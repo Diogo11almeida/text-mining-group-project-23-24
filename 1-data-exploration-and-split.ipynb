{
 "cells": [
  {
   "cell_type": "markdown",
   "metadata": {},
   "source": [
    "### **Text Mining Group Project 23-24**\n",
    "\n",
    "##### **Group 3**\n",
    "\n",
    "**Elements**:\n",
    "- Afonso Gorjão | 20230575 | 20230575@novaims.unl.pt\n",
    "- Diogo Almeida | ... | ...@novaims.unl.pt\n",
    "- Frederico Portela | R20181072 | r20181072@novaims.unl.pt\n",
    "- Pedro Carvalho | 20230554 | 20230554@novaims.unl.pt\n",
    "\n",
    "\n",
    "**In this notebook:**\n",
    "1. Data Extraction from raw file.\n",
    "\n",
    "**Index**\n",
    "1. [Library imports](#library_imports)\n",
    "2. ..."
   ]
  },
  {
   "cell_type": "markdown",
   "metadata": {},
   "source": [
    "#### **Library Imports**<a id='library_imports'></a>"
   ]
  },
  {
   "cell_type": "code",
   "execution_count": 16,
   "metadata": {},
   "outputs": [],
   "source": [
    "import os\n",
    "import re\n",
    "import warnings\n",
    "warnings.filterwarnings('ignore')\n",
    "\n",
    "import numpy as np\n",
    "import pandas as pd\n",
    "import matplotlib.pyplot as plt\n",
    "\n",
    "import nltk\n",
    "from nltk.corpus import stopwords\n",
    "from nltk.tokenize import word_tokenize\n",
    "from nltk.stem import WordNetLemmatizer\n",
    "from nltk.sentiment import SentimentIntensityAnalyzer\n",
    "\n",
    "from bs4 import BeautifulSoup\n",
    "\n",
    "import fasttext\n",
    "\n",
    "from sklearn.model_selection import train_test_split"
   ]
  },
  {
   "cell_type": "markdown",
   "metadata": {},
   "source": [
    "#### **Constants**"
   ]
  },
  {
   "cell_type": "code",
   "execution_count": 2,
   "metadata": {},
   "outputs": [],
   "source": [
    "SEED = 42\n",
    "\n",
    "CORPORA_PATH = os.path.join('corpora', 'raw-data')\n",
    "\n",
    "TRAIN_INFO_PATH = os.path.join(CORPORA_PATH, 'train.xlsx')\n",
    "TRAIN_REVIEWS_PATH = os.path.join(CORPORA_PATH, 'train_reviews.xlsx')\n",
    "\n",
    "TEST_INFO_PATH = os.path.join(CORPORA_PATH, 'test.xlsx')\n",
    "TEST_REVIEWS_PATH = os.path.join(CORPORA_PATH, 'test_reviews.xlsx')"
   ]
  },
  {
   "cell_type": "markdown",
   "metadata": {},
   "source": [
    "#### **Data Imports**"
   ]
  },
  {
   "cell_type": "code",
   "execution_count": 3,
   "metadata": {},
   "outputs": [
    {
     "name": "stdout",
     "output_type": "stream",
     "text": [
      "index column to identify each property\n"
     ]
    }
   ],
   "source": [
    "class Metadata:\n",
    "    \n",
    "    \"\"\"\n",
    "    Easy access to metadata for the Airbnb dataset.\n",
    "    \"\"\"\n",
    "    \n",
    "    descriptions = {\n",
    "        'index': 'index column to identify each property',\n",
    "        'description': 'property description',\n",
    "        'host_about': 'host information',\n",
    "        'unlisted': 'target column: whether the property is unlisted (1) or not (0)',\n",
    "        'comments': 'guest comments on the property. A property can have multiple or no comments',\n",
    "    }\n",
    "    \n",
    "    @classmethod\n",
    "    def describe(cls, column):\n",
    "        return cls.descriptions[column]\n",
    "\n",
    "\n",
    "# example\n",
    "print(Metadata.describe('index'))"
   ]
  },
  {
   "cell_type": "code",
   "execution_count": 3,
   "metadata": {},
   "outputs": [
    {
     "name": "stdout",
     "output_type": "stream",
     "text": [
      "Train info shape: (6248, 4)\n"
     ]
    },
    {
     "data": {
      "text/html": [
       "<div>\n",
       "<style scoped>\n",
       "    .dataframe tbody tr th:only-of-type {\n",
       "        vertical-align: middle;\n",
       "    }\n",
       "\n",
       "    .dataframe tbody tr th {\n",
       "        vertical-align: top;\n",
       "    }\n",
       "\n",
       "    .dataframe thead th {\n",
       "        text-align: right;\n",
       "    }\n",
       "</style>\n",
       "<table border=\"1\" class=\"dataframe\">\n",
       "  <thead>\n",
       "    <tr style=\"text-align: right;\">\n",
       "      <th></th>\n",
       "      <th>index</th>\n",
       "      <th>description</th>\n",
       "      <th>host_about</th>\n",
       "      <th>unlisted</th>\n",
       "    </tr>\n",
       "  </thead>\n",
       "  <tbody>\n",
       "    <tr>\n",
       "      <th>0</th>\n",
       "      <td>1</td>\n",
       "      <td>This is a shared mixed room in our hostel, wit...</td>\n",
       "      <td>Alojamento Local Registro: 20835/AL</td>\n",
       "      <td>0</td>\n",
       "    </tr>\n",
       "    <tr>\n",
       "      <th>1</th>\n",
       "      <td>2</td>\n",
       "      <td>O meu espaço fica perto de Parque Eduardo VII,...</td>\n",
       "      <td>I am friendly host, and I will try to always b...</td>\n",
       "      <td>1</td>\n",
       "    </tr>\n",
       "    <tr>\n",
       "      <th>2</th>\n",
       "      <td>3</td>\n",
       "      <td>Trafaria’s House is a cozy and familiar villa ...</td>\n",
       "      <td>I am a social person liking to communicate, re...</td>\n",
       "      <td>1</td>\n",
       "    </tr>\n",
       "    <tr>\n",
       "      <th>3</th>\n",
       "      <td>4</td>\n",
       "      <td>Apartamento Charmoso no Chiado, Entre o Largo ...</td>\n",
       "      <td>Hello!_x000D_\\nI m Portuguese and i love to me...</td>\n",
       "      <td>0</td>\n",
       "    </tr>\n",
       "    <tr>\n",
       "      <th>4</th>\n",
       "      <td>5</td>\n",
       "      <td>Joli appartement  en bordure de mer.&lt;br /&gt; 2 m...</td>\n",
       "      <td>Nous sommes une famille avec deux enfants de 1...</td>\n",
       "      <td>0</td>\n",
       "    </tr>\n",
       "  </tbody>\n",
       "</table>\n",
       "</div>"
      ],
      "text/plain": [
       "   index                                        description  \\\n",
       "0      1  This is a shared mixed room in our hostel, wit...   \n",
       "1      2  O meu espaço fica perto de Parque Eduardo VII,...   \n",
       "2      3  Trafaria’s House is a cozy and familiar villa ...   \n",
       "3      4  Apartamento Charmoso no Chiado, Entre o Largo ...   \n",
       "4      5  Joli appartement  en bordure de mer.<br /> 2 m...   \n",
       "\n",
       "                                          host_about  unlisted  \n",
       "0                Alojamento Local Registro: 20835/AL         0  \n",
       "1  I am friendly host, and I will try to always b...         1  \n",
       "2  I am a social person liking to communicate, re...         1  \n",
       "3  Hello!_x000D_\\nI m Portuguese and i love to me...         0  \n",
       "4  Nous sommes une famille avec deux enfants de 1...         0  "
      ]
     },
     "metadata": {},
     "output_type": "display_data"
    },
    {
     "name": "stdout",
     "output_type": "stream",
     "text": [
      "\n",
      "Train reviews shape: (361281, 2)\n"
     ]
    },
    {
     "data": {
      "text/html": [
       "<div>\n",
       "<style scoped>\n",
       "    .dataframe tbody tr th:only-of-type {\n",
       "        vertical-align: middle;\n",
       "    }\n",
       "\n",
       "    .dataframe tbody tr th {\n",
       "        vertical-align: top;\n",
       "    }\n",
       "\n",
       "    .dataframe thead th {\n",
       "        text-align: right;\n",
       "    }\n",
       "</style>\n",
       "<table border=\"1\" class=\"dataframe\">\n",
       "  <thead>\n",
       "    <tr style=\"text-align: right;\">\n",
       "      <th></th>\n",
       "      <th>index</th>\n",
       "      <th>comments</th>\n",
       "    </tr>\n",
       "  </thead>\n",
       "  <tbody>\n",
       "    <tr>\n",
       "      <th>0</th>\n",
       "      <td>1</td>\n",
       "      <td>this is a very cozy and comfortable house to s...</td>\n",
       "    </tr>\n",
       "    <tr>\n",
       "      <th>1</th>\n",
       "      <td>1</td>\n",
       "      <td>good&lt;br/&gt;</td>\n",
       "    </tr>\n",
       "    <tr>\n",
       "      <th>2</th>\n",
       "      <td>1</td>\n",
       "      <td>My first hostel experience, and all I have to ...</td>\n",
       "    </tr>\n",
       "    <tr>\n",
       "      <th>3</th>\n",
       "      <td>1</td>\n",
       "      <td>Das Hostel war neu und deshalb funktionierte a...</td>\n",
       "    </tr>\n",
       "    <tr>\n",
       "      <th>4</th>\n",
       "      <td>1</td>\n",
       "      <td>It was fine for a dorm, but I think for the pe...</td>\n",
       "    </tr>\n",
       "  </tbody>\n",
       "</table>\n",
       "</div>"
      ],
      "text/plain": [
       "   index                                           comments\n",
       "0      1  this is a very cozy and comfortable house to s...\n",
       "1      1                                          good<br/>\n",
       "2      1  My first hostel experience, and all I have to ...\n",
       "3      1  Das Hostel war neu und deshalb funktionierte a...\n",
       "4      1  It was fine for a dorm, but I think for the pe..."
      ]
     },
     "metadata": {},
     "output_type": "display_data"
    }
   ],
   "source": [
    "train_info = pd.read_excel(TRAIN_INFO_PATH)\n",
    "train_reviews = pd.read_excel(TRAIN_REVIEWS_PATH)\n",
    "\n",
    "print(f'Train info shape: {train_info.shape}')\n",
    "display(train_info.head())\n",
    "print()\n",
    "print(f'Train reviews shape: {train_reviews.shape}')\n",
    "display(train_reviews.head())\n",
    "\n",
    "# time to load: ~25s"
   ]
  },
  {
   "cell_type": "code",
   "execution_count": 4,
   "metadata": {},
   "outputs": [],
   "source": [
    "# we might also want to check the test data to ensure compatibility\n",
    "test_info = pd.read_excel(TEST_INFO_PATH)\n",
    "test_reviews = pd.read_excel(TEST_REVIEWS_PATH)\n",
    "\n",
    "assert test_info.columns.tolist() == train_info.columns.tolist()[:-1], 'Test and train info columns do not match'\n",
    "assert test_reviews.columns.tolist() == train_reviews.columns.tolist(), 'Test and train reviews columns do not match'"
   ]
  },
  {
   "cell_type": "markdown",
   "metadata": {},
   "source": [
    "#### **Data Exploration**"
   ]
  },
  {
   "cell_type": "markdown",
   "metadata": {},
   "source": [
    "- **High-level Statistics**"
   ]
  },
  {
   "cell_type": "code",
   "execution_count": 5,
   "metadata": {},
   "outputs": [
    {
     "name": "stdout",
     "output_type": "stream",
     "text": [
      "Train info missing values:\n",
      "index           0\n",
      "description     0\n",
      "host_about     24\n",
      "unlisted        0\n",
      "dtype: int64\n",
      "\n",
      "Train reviews missing values:\n",
      "index       0\n",
      "comments    2\n",
      "dtype: int64\n",
      "\n",
      "Test info missing values:\n",
      "index          0\n",
      "description    0\n",
      "host_about     2\n",
      "dtype: int64\n",
      "\n",
      "Test reviews missing values:\n",
      "index       0\n",
      "comments    0\n",
      "dtype: int64\n"
     ]
    }
   ],
   "source": [
    "# missing values\n",
    "\n",
    "# there seems to be blank spaces not being identified as nulls\n",
    "# r'^\\s*$' matches strings that are empty or contain only whitespace\n",
    "# ^ asserts the start of the string\n",
    "# \\s* matches zero or more whitespace characters (spaces, tabs, newlines, etc.)\n",
    "# $ asserts the end of the string\n",
    "train_info = train_info.replace(r'^\\s*$', np.nan, regex=True)\n",
    "train_reviews = train_reviews.replace(r'^\\s*$', np.nan, regex=True)\n",
    "\n",
    "print('Train info missing values:')\n",
    "print(train_info.isna().sum())\n",
    "\n",
    "print('\\nTrain reviews missing values:')\n",
    "print(train_reviews.isna().sum())\n",
    "\n",
    "# to the same to the test set\n",
    "test_info = test_info.replace(r'^\\s*$', np.nan, regex=True)\n",
    "test_reviews = test_reviews.replace(r'^\\s*$', np.nan, regex=True)\n",
    "\n",
    "print('\\nTest info missing values:')\n",
    "print(test_info.isna().sum())\n",
    "\n",
    "print('\\nTest reviews missing values:')\n",
    "print(test_reviews.isna().sum())"
   ]
  },
  {
   "cell_type": "code",
   "execution_count": 21,
   "metadata": {},
   "outputs": [
    {
     "name": "stdout",
     "output_type": "stream",
     "text": [
      "Total no. of properties in train dataset: 6248\n"
     ]
    }
   ],
   "source": [
    "# is index unique in train_info?\n",
    "assert train_info['index'].nunique() == train_info.shape[0], 'Index is not unique'\n",
    "print(f'Total no. of properties in train dataset: {train_info.shape[0]}')"
   ]
  },
  {
   "cell_type": "code",
   "execution_count": 20,
   "metadata": {},
   "outputs": [
    {
     "name": "stdout",
     "output_type": "stream",
     "text": [
      "Unlisted: 1708 (27.34%)\n",
      "Listed: 4540 (72.66%)\n"
     ]
    },
    {
     "data": {
      "image/png": "[encoded data removed]",
      "text/plain": [
       "<Figure size 640x480 with 1 Axes>"
      ]
     },
     "metadata": {},
     "output_type": "display_data"
    }
   ],
   "source": [
    "# listed vs unlisted\n",
    "unlisted = train_info['unlisted'].value_counts()\n",
    "print(f'Unlisted: {unlisted[1]} ({unlisted[1] / train_info.shape[0] * 100:.2f}%)')\n",
    "print(f'Listed: {unlisted[0]} ({unlisted[0] / train_info.shape[0] * 100:.2f}%)')\n",
    "\n",
    "plt.bar(['Unlisted', 'Listed'], unlisted)\n",
    "plt.title('Listed vs Unlisted Properties in Train Dataset')\n",
    "plt.show()\n",
    "\n",
    "# ... some data imbalance, might need to address this later"
   ]
  },
  {
   "cell_type": "code",
   "execution_count": 26,
   "metadata": {},
   "outputs": [
    {
     "name": "stdout",
     "output_type": "stream",
     "text": [
      "Properties with reviews: 4245 (67.94%)\n",
      "Properties without reviews: 2003 (32.06%)\n"
     ]
    }
   ],
   "source": [
    "# property reviews\n",
    "reviews_per_property = train_reviews['index'].value_counts()\n",
    "\n",
    "total_properties = train_info.shape[0]\n",
    "properties_with_reviews = reviews_per_property.shape[0]\n",
    "properties_without_reviews = total_properties - properties_with_reviews\n",
    "\n",
    "print(f'Properties with reviews: {properties_with_reviews} ({properties_with_reviews / total_properties * 100:.2f}%)')\n",
    "print(f'Properties without reviews: {properties_without_reviews} ({properties_without_reviews / total_properties * 100:.2f}%)')"
   ]
  },
  {
   "cell_type": "code",
   "execution_count": 33,
   "metadata": {},
   "outputs": [
    {
     "name": "stdout",
     "output_type": "stream",
     "text": [
      "Average reviews per property: 85.11\n",
      "Median reviews per property: 48\n",
      "Mode reviews per property: 1\n",
      "Standard deviation of reviews per property: 96.49\n"
     ]
    }
   ],
   "source": [
    "# stats on reviews per property\n",
    "avg_reviews_per_property = reviews_per_property.mean()\n",
    "print(f'Average reviews per property: {avg_reviews_per_property:.2f}')\n",
    "print(f'Median reviews per property: {reviews_per_property.median():.0f}')\n",
    "print(f'Mode of reviews per property: {reviews_per_property.mode()[0]}')\n",
    "print(f'Standard deviation of reviews per property: {reviews_per_property.std():.2f}')"
   ]
  },
  {
   "cell_type": "markdown",
   "metadata": {},
   "source": [
    "- **Data Cleaning ahead of text field analysis**"
   ]
  },
  {
   "cell_type": "code",
   "execution_count": null,
   "metadata": {},
   "outputs": [],
   "source": [
    "# language detection\n",
    "# wordcounts by field (some cleaning beforehand is needed)\n",
    "# sentiment analysis on comments (chi-square test to check if sentiment is correlated to target)"
   ]
  },
  {
   "cell_type": "code",
   "execution_count": 6,
   "metadata": {},
   "outputs": [],
   "source": [
    "# cleaning functions\n",
    "# NOTE some of this functions will be used for data pre processing!\n",
    "\n",
    "def remove_html_tags(text):\n",
    "    soup = BeautifulSoup(text, \"html.parser\")\n",
    "    cleaned_text = soup.get_text(separator=\" \")\n",
    "    return cleaned_text\n",
    "\n",
    "\n",
    "def remove_emojis_and_special_characters(text):\n",
    "    # Regex to remove emojis and non-ASCII characters\n",
    "    emoji_pattern = re.compile(\"[\"\n",
    "                               u\"\\U0001F600-\\U0001F64F\"  # emoticons\n",
    "                               u\"\\U0001F300-\\U0001F5FF\"  # symbols & pictographs\n",
    "                               u\"\\U0001F680-\\U0001F6FF\"  # transport & map symbols\n",
    "                               u\"\\U0001F700-\\U0001F77F\"  # alchemical symbols\n",
    "                               u\"\\U0001F780-\\U0001F7FF\"  # Geometric shapes extended\n",
    "                               u\"\\U0001F800-\\U0001F8FF\"  # Supplemental arrows-C\n",
    "                               u\"\\U0001F900-\\U0001F9FF\"  # Supplemental symbols and pictographs\n",
    "                               u\"\\U0001FA00-\\U0001FA6F\"  # Chess symbols\n",
    "                               u\"\\U0001FA70-\\U0001FAFF\"  # Symbols and Pictographs Extended-A\n",
    "                               u\"\\U00002702-\\U000027B0\"  # Dingbats\n",
    "                               u\"\\U000024C2-\\U0001F251\"\n",
    "                               \"]+\", flags=re.UNICODE)\n",
    "    text = emoji_pattern.sub(r'', text)\n",
    "    text = re.sub(r\"[^\\w\\s]\", '', text)  # Remove punctuation\n",
    "    return text\n",
    "\n",
    "\n",
    "def remove_control_characters(text):\n",
    "    # Remove common problematic sequences\n",
    "    text = text.replace('_x000D_', '')  # Explicitly replace carriage returns (often used to indicate line breaks)\n",
    "    # Remove non-printable characters\n",
    "    text = re.sub(r'[\\x00-\\x1f\\x7f-\\x9f]', '', text)\n",
    "    return text\n",
    "\n",
    "\n",
    "def remove_functional_punctuation(text):\n",
    "    # Remove punctuation that is not indicative of sentiment\n",
    "    # Keep ! and ? as they can indicate sentiment\n",
    "    text = re.sub(r'[.,;:()\\[\\]{}]', '', text)\n",
    "    return text\n",
    "\n",
    "\n",
    "def remove_or_replace_mentions(text):\n",
    "    # '@' seems to be either used as a simplification of the word 'at'\n",
    "    # or a mention. Therefore, if '@' is not attached to any other characters\n",
    "    # then we will replace it with 'at', else will remove it as well as the\n",
    "    # characters glued to it.\n",
    "    if '@' in text:\n",
    "        text = re.sub(r' @ ', 'at', text)\n",
    "        text = re.sub(r'@(\\w+)', '', text)\n",
    "    return text\n",
    "\n",
    "\n",
    "def remove_urls(text):\n",
    "    text = re.sub(r'http[s]?://\\S+', '', text)\n",
    "    return text\n",
    "\n",
    "\n",
    "def remove_or_replace_hashtags(text):\n",
    "    # not sure if they are really used as hashtags\n",
    "    # but rather to mean 'number'/'best', e.g. # 1 spot in town!\n",
    "    if '#1' or '# 1':\n",
    "        text = re.sub(r'#\\s?\\b1\\b', 'best', text)\n",
    "    text = re.sub(r'#(\\w+)', '', text)\n",
    "    return text\n",
    "\n",
    "\n",
    "def remove_numbers(text):\n",
    "    text = re.sub(r'\\d+', '', text)\n",
    "    return text\n",
    "\n",
    "\n",
    "def remove_double_withspaces(text):\n",
    "    # the previous transformations might end up\n",
    "    # creating duplicate whitespaces\n",
    "    text = re.sub(r'\\s+', ' ', text)\n",
    "    return text\n",
    "\n",
    "\n",
    "def lower_case(text):\n",
    "    return text.lower()\n",
    "\n",
    "\n",
    "def strip(text):\n",
    "    return text.strip()"
   ]
  },
  {
   "cell_type": "code",
   "execution_count": 7,
   "metadata": {},
   "outputs": [],
   "source": [
    "# function chainer\n",
    "# select which cleaning functions to use\n",
    "\n",
    "def clean_text(text):\n",
    "    # skip nans\n",
    "    if pd.isna(text):\n",
    "        return text\n",
    "        \n",
    "    text = remove_html_tags(text)\n",
    "    text = remove_emojis_and_special_characters(text)\n",
    "    text = remove_control_characters(text)\n",
    "    text = remove_functional_punctuation(text)\n",
    "    text = remove_or_replace_mentions(text)\n",
    "    text = remove_urls(text)\n",
    "    text = remove_or_replace_hashtags(text)\n",
    "    text = remove_numbers(text)\n",
    "    text = remove_double_withspaces(text)\n",
    "    text = lower_case(text)\n",
    "    text = strip(text)\n",
    "    \n",
    "    return text"
   ]
  },
  {
   "cell_type": "code",
   "execution_count": 8,
   "metadata": {},
   "outputs": [],
   "source": [
    "# language detection - it helps that our data is somewhat clean\n",
    "\n",
    "train_info['clean_description'] = train_info['description'].apply(clean_text)\n",
    "train_info['clean_host_about'] = train_info['host_about'].apply(clean_text)\n",
    "train_reviews['clean_comments'] = train_reviews['comments'].apply(clean_text)\n",
    "\n",
    "# takes around ~90s"
   ]
  },
  {
   "cell_type": "markdown",
   "metadata": {},
   "source": [
    "- **Language Detection**"
   ]
  },
  {
   "cell_type": "code",
   "execution_count": 23,
   "metadata": {},
   "outputs": [
    {
     "name": "stdout",
     "output_type": "stream",
     "text": [
      "No. of unique languages in clean_description_lang: 10\n",
      "No. of unique languages in clean_host_about_lang: 16\n",
      "No. of unique languages in clean_comments_lang: 61\n"
     ]
    }
   ],
   "source": [
    "# using the fasttext library to help detect language of text fields\n",
    "# https://huggingface.co/facebook/fasttext-language-identification\n",
    "# https://medium.com/@c.chaitanya/language-identification-in-python-using-fasttext-60359dc30ed0\n",
    "\n",
    "# how to:\n",
    "# 1. go to: https://fasttext.cc/docs/en/language-identification.html\n",
    "# 2. download lid.176.ftz and place it in the language-detection folder (if you have no such folder, create it beforehand)\n",
    "\n",
    "class LanguageDetector:\n",
    "    def __init__(self):\n",
    "        self.model = self.load_model()\n",
    "    \n",
    "    def load_model(self):\n",
    "        model = fasttext.load_model(os.path.join('language-detection', 'lid.176.ftz'))\n",
    "        return model\n",
    "    \n",
    "    def detect_language(self, text):\n",
    "        if pd.isna(text):\n",
    "            return text\n",
    "        return self.model.predict(text)[0][0].split('__')[-1]\n",
    "    \n",
    "\n",
    "language_detector = LanguageDetector()\n",
    "train_info['clean_description_lang'] = train_info['clean_description'].apply(lambda text: language_detector.detect_language(text))\n",
    "train_info['clean_host_about_lang'] = train_info['clean_host_about'].apply(lambda text: language_detector.detect_language(text))\n",
    "train_reviews['clean_comments_lang'] = train_reviews['clean_comments'].apply(lambda text: language_detector.detect_language(text))\n",
    "\n",
    "print(f\"No. of unique languages in clean_description_lang: {len(train_info['clean_description_lang'].unique())}\")\n",
    "print(f\"No. of unique languages in clean_host_about_lang: {len(train_info['clean_host_about_lang'].unique())}\")\n",
    "print(f\"No. of unique languages in clean_comments_lang: {len(train_reviews['clean_comments_lang'].unique())}\")"
   ]
  },
  {
   "cell_type": "code",
   "execution_count": null,
   "metadata": {},
   "outputs": [],
   "source": [
    "# plot most common languages"
   ]
  },
  {
   "cell_type": "markdown",
   "metadata": {},
   "source": [
    "- **Word Count (of clean data)**"
   ]
  },
  {
   "cell_type": "code",
   "execution_count": 72,
   "metadata": {},
   "outputs": [
    {
     "data": {
      "text/html": [
       "<div>\n",
       "<style scoped>\n",
       "    .dataframe tbody tr th:only-of-type {\n",
       "        vertical-align: middle;\n",
       "    }\n",
       "\n",
       "    .dataframe tbody tr th {\n",
       "        vertical-align: top;\n",
       "    }\n",
       "\n",
       "    .dataframe thead th {\n",
       "        text-align: right;\n",
       "    }\n",
       "</style>\n",
       "<table border=\"1\" class=\"dataframe\">\n",
       "  <thead>\n",
       "    <tr style=\"text-align: right;\">\n",
       "      <th></th>\n",
       "      <th>index</th>\n",
       "      <th>comments</th>\n",
       "      <th>clean_comments</th>\n",
       "    </tr>\n",
       "  </thead>\n",
       "  <tbody>\n",
       "    <tr>\n",
       "      <th>0</th>\n",
       "      <td>1</td>\n",
       "      <td>this is a very cozy and comfortable house to s...</td>\n",
       "      <td>this is a very cozy and comfortable house to s...</td>\n",
       "    </tr>\n",
       "    <tr>\n",
       "      <th>1</th>\n",
       "      <td>1</td>\n",
       "      <td>good&lt;br/&gt;</td>\n",
       "      <td>good</td>\n",
       "    </tr>\n",
       "    <tr>\n",
       "      <th>2</th>\n",
       "      <td>1</td>\n",
       "      <td>My first hostel experience, and all I have to ...</td>\n",
       "      <td>my first hostel experience and all i have to s...</td>\n",
       "    </tr>\n",
       "    <tr>\n",
       "      <th>3</th>\n",
       "      <td>1</td>\n",
       "      <td>Das Hostel war neu und deshalb funktionierte a...</td>\n",
       "      <td>das hostel war neu und deshalb funktionierte a...</td>\n",
       "    </tr>\n",
       "    <tr>\n",
       "      <th>4</th>\n",
       "      <td>1</td>\n",
       "      <td>It was fine for a dorm, but I think for the pe...</td>\n",
       "      <td>it was fine for a dorm but i think for the peo...</td>\n",
       "    </tr>\n",
       "    <tr>\n",
       "      <th>...</th>\n",
       "      <td>...</td>\n",
       "      <td>...</td>\n",
       "      <td>...</td>\n",
       "    </tr>\n",
       "    <tr>\n",
       "      <th>361276</th>\n",
       "      <td>6248</td>\n",
       "      <td>The location was perfect. The apartment was ve...</td>\n",
       "      <td>the location was perfect the apartment was ver...</td>\n",
       "    </tr>\n",
       "    <tr>\n",
       "      <th>361277</th>\n",
       "      <td>6248</td>\n",
       "      <td>Ana's place is exactly as described and even b...</td>\n",
       "      <td>anas place is exactly as described and even be...</td>\n",
       "    </tr>\n",
       "    <tr>\n",
       "      <th>361278</th>\n",
       "      <td>6248</td>\n",
       "      <td>A Ana foi muito atenciosa e preocupou se com o...</td>\n",
       "      <td>a ana foi muito atenciosa e preocupou se com o...</td>\n",
       "    </tr>\n",
       "    <tr>\n",
       "      <th>361279</th>\n",
       "      <td>6248</td>\n",
       "      <td>No wifi nor answer. &lt;br/&gt;The wifi can’t be con...</td>\n",
       "      <td>no wifi nor answer the wifi cant be connected ...</td>\n",
       "    </tr>\n",
       "    <tr>\n",
       "      <th>361280</th>\n",
       "      <td>6248</td>\n",
       "      <td>O espaço é ótimo, a D. Ana foi maravilhosa e f...</td>\n",
       "      <td>o espaço é ótimo a d ana foi maravilhosa e fez...</td>\n",
       "    </tr>\n",
       "  </tbody>\n",
       "</table>\n",
       "<p>361281 rows × 3 columns</p>\n",
       "</div>"
      ],
      "text/plain": [
       "        index                                           comments  \\\n",
       "0           1  this is a very cozy and comfortable house to s...   \n",
       "1           1                                          good<br/>   \n",
       "2           1  My first hostel experience, and all I have to ...   \n",
       "3           1  Das Hostel war neu und deshalb funktionierte a...   \n",
       "4           1  It was fine for a dorm, but I think for the pe...   \n",
       "...       ...                                                ...   \n",
       "361276   6248  The location was perfect. The apartment was ve...   \n",
       "361277   6248  Ana's place is exactly as described and even b...   \n",
       "361278   6248  A Ana foi muito atenciosa e preocupou se com o...   \n",
       "361279   6248  No wifi nor answer. <br/>The wifi can’t be con...   \n",
       "361280   6248  O espaço é ótimo, a D. Ana foi maravilhosa e f...   \n",
       "\n",
       "                                           clean_comments  \n",
       "0       this is a very cozy and comfortable house to s...  \n",
       "1                                                    good  \n",
       "2       my first hostel experience and all i have to s...  \n",
       "3       das hostel war neu und deshalb funktionierte a...  \n",
       "4       it was fine for a dorm but i think for the peo...  \n",
       "...                                                   ...  \n",
       "361276  the location was perfect the apartment was ver...  \n",
       "361277  anas place is exactly as described and even be...  \n",
       "361278  a ana foi muito atenciosa e preocupou se com o...  \n",
       "361279  no wifi nor answer the wifi cant be connected ...  \n",
       "361280  o espaço é ótimo a d ana foi maravilhosa e fez...  \n",
       "\n",
       "[361281 rows x 3 columns]"
      ]
     },
     "execution_count": 72,
     "metadata": {},
     "output_type": "execute_result"
    }
   ],
   "source": []
  },
  {
   "cell_type": "markdown",
   "metadata": {},
   "source": [
    "- **Sentiment Analysis (on clean data)**"
   ]
  },
  {
   "cell_type": "code",
   "execution_count": null,
   "metadata": {},
   "outputs": [],
   "source": []
  },
  {
   "cell_type": "markdown",
   "metadata": {},
   "source": [
    "##### **Data Merge (for both train and test datasets)**"
   ]
  },
  {
   "cell_type": "code",
   "execution_count": null,
   "metadata": {},
   "outputs": [],
   "source": [
    "# can we treat each property-guest review as independent?\n",
    "# ... IMO yes, since we reviews are not dated and therefore\n",
    "# we cannot establish a temporal relationship between them\n",
    "# e.g. if last 5 reviews are bad then house is more likely\n",
    "# to be unlisted.\n",
    "\n"
   ]
  },
  {
   "cell_type": "code",
   "execution_count": null,
   "metadata": {},
   "outputs": [],
   "source": [
    "# merging, for train and test datasets, info and reviews"
   ]
  },
  {
   "cell_type": "markdown",
   "metadata": {},
   "source": [
    "##### **Train Data Split**"
   ]
  },
  {
   "cell_type": "code",
   "execution_count": null,
   "metadata": {},
   "outputs": [],
   "source": [
    "# train-val-test split\n",
    "# due to sheer amount of data k-fold cross-validation will not be feasible\n",
    "\n",
    "\n",
    "# TODO rewrite this code\n",
    "\n",
    "# X = images.copy()\n",
    "# y = [pathlib.Path(path).parts[2] for path in images].copy()\n",
    "\n",
    "# def two_step_proportions(train_p, val_p, test_p):\n",
    "#     \"\"\"\n",
    "#     Since we need to split the data in two steps\n",
    "#     this function returns the proportions of the\n",
    "#     'test_size' arg. needed to get the true prop.\n",
    "#     \"\"\" \n",
    "#     return (test_p, 1-(train_p/(1-test_p)))\n",
    "\n",
    "# test_size_1, test_size_2 = two_step_proportions(.7, .15, .15)\n",
    "\n",
    "# X_train_val, X_test, y_train_val, y_test = train_test_split(X,\n",
    "#                                                             y,\n",
    "#                                                             test_size=test_size_1,\n",
    "#                                                             shuffle=True,\n",
    "#                                                             stratify=y,\n",
    "#                                                             random_state=42)\n",
    "\n",
    "# X_train, X_val, y_train, y_val = train_test_split(X_train_val,\n",
    "#                                                   y_train_val,\n",
    "#                                                   test_size=test_size_2,\n",
    "#                                                   shuffle=True,\n",
    "#                                                   stratify=y_train_val,\n",
    "#                                                   random_state=42)\n",
    "\n",
    "# get_prop = lambda d: round(len(d) / len(X) * 100, 2)\n",
    "# print('Dataset shapes:')\n",
    "# print(f'\\tTrain: {len(X_train)} ({get_prop(X_train)}%)')\n",
    "# print(f'\\tVal: {len(X_val)} ({get_prop(X_val)}%)')\n",
    "# print(f'\\tTest: {len(X_test)} ({get_prop(X_test)}%)')\n",
    "# print(f\"\\nTotal observations: {len(X)}\")"
   ]
  }
 ],
 "metadata": {
  "kernelspec": {
   "display_name": "Python 3",
   "language": "python",
   "name": "python3"
  },
  "language_info": {
   "codemirror_mode": {
    "name": "ipython",
    "version": 3
   },
   "file_extension": ".py",
   "mimetype": "text/x-python",
   "name": "python",
   "nbconvert_exporter": "python",
   "pygments_lexer": "ipython3",
   "version": "3.11.7"
  }
 },
 "nbformat": 4,
 "nbformat_minor": 2
}
